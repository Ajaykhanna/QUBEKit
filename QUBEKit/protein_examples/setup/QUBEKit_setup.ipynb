{
 "cells": [
  {
   "cell_type": "markdown",
   "metadata": {},
   "source": [
    "# QUBEKit setup"
   ]
  },
  {
   "cell_type": "markdown",
   "metadata": {},
   "source": [
    "This notebook will help with preparing a file for a onetep nonbonded calculation by transforming the prepared protein to a xyz file. The protein should of been prepared using AMBERTools as QUBEKit templates follow the same format as AMBER."
   ]
  },
  {
   "cell_type": "code",
   "execution_count": 3,
   "metadata": {},
   "outputs": [
    {
     "data": {
      "text/plain": [
       "['.ipynb_checkpoints', 'protein.xyz', 'QUBEKit_setup.ipynb', 'capped.pdb']"
      ]
     },
     "execution_count": 3,
     "metadata": {},
     "output_type": "execute_result"
    }
   ],
   "source": [
    "from os import system, listdir\n",
    "\n",
    "# run the QUBEKit commands\n",
    "system(\"QUBEKit-pro --setup capped.pdb\")\n",
    "# make sure the file has been created\n",
    "listdir('.')"
   ]
  },
  {
   "cell_type": "code",
   "execution_count": 5,
   "metadata": {},
   "outputs": [
    {
     "data": {
      "text/plain": [
       "['31\\n',\n",
       " 'xyz file generated with QUBEKit\\n',\n",
       " 'C       -1.2740000000    2.3380000000   -2.1870000000 \\n',\n",
       " 'H       -1.4600000000    1.4970000000   -2.8370000000 \\n',\n",
       " 'H       -0.5750000000    3.0230000000   -2.6730000000 \\n',\n",
       " 'H       -2.1860000000    2.8800000000   -1.9530000000 \\n',\n",
       " 'C       -0.6570000000    1.8760000000   -0.9350000000 \\n',\n",
       " 'O        0.4400000000    2.2780000000   -0.6270000000 \\n',\n",
       " 'N       -1.4240000000    1.0340000000   -0.2700000000 \\n',\n",
       " 'H       -2.2760000000    0.8140000000   -0.7640000000 \\n',\n",
       " 'C       -1.2190000000    0.3430000000    1.0540000000 \\n',\n",
       " 'H       -2.1490000000    0.4530000000    1.6000000000 \\n',\n",
       " 'C       -1.0740000000   -1.1630000000    0.7520000000 \\n',\n",
       " 'H       -0.8790000000   -1.6840000000    1.6980000000 \\n',\n",
       " 'H       -2.0540000000   -1.5290000000    0.4290000000 \\n',\n",
       " 'C       -0.0190000000   -1.5460000000   -0.2760000000 \\n',\n",
       " 'H       -0.2600000000   -1.0780000000   -1.2220000000 \\n',\n",
       " 'C       -0.0850000000   -3.0470000000   -0.5370000000 \\n',\n",
       " 'H        0.6380000000   -3.3270000000   -1.3080000000 \\n',\n",
       " 'H        0.1630000000   -3.6150000000    0.3800000000 \\n',\n",
       " 'H       -1.0930000000   -3.3500000000   -0.8810000000 \\n',\n",
       " 'C        1.3730000000   -1.1290000000    0.1470000000 \\n',\n",
       " 'H        2.1040000000   -1.5660000000   -0.5520000000 \\n',\n",
       " 'H        1.4680000000   -0.0570000000    0.0990000000 \\n',\n",
       " 'H        1.5970000000   -1.4930000000    1.1570000000 \\n',\n",
       " 'C       -0.0710000000    0.9130000000    2.0740000000 \\n',\n",
       " 'O        0.0400000000    0.4590000000    3.1890000000 \\n',\n",
       " 'N        0.7020000000    1.9420000000    1.7240000000 \\n',\n",
       " 'H        0.6240000000    2.1900000000    0.7050000000 \\n',\n",
       " 'C        1.6560000000    2.6260000000    2.5870000000 \\n',\n",
       " 'H        2.5360000000    2.0070000000    2.7250000000 \\n',\n",
       " 'H        1.9490000000    3.5650000000    2.1440000000 \\n',\n",
       " 'H        1.2150000000    2.8170000000    3.5560000000 \\n']"
      ]
     },
     "execution_count": 5,
     "metadata": {},
     "output_type": "execute_result"
    }
   ],
   "source": [
    "# we can see the protein.xyz file has been made \n",
    "# in future we will also print the box vectors for the onetep calculation\n",
    "\n",
    "# now check the output file \n",
    "xyz = open('protein.xyz', 'r').readlines()\n",
    "xyz"
   ]
  },
  {
   "cell_type": "markdown",
   "metadata": {},
   "source": [
    "Now run this xyz file in onetep remebering to change the charge, cell size, box lengths and psinc in the run_onetep file."
   ]
  },
  {
   "cell_type": "code",
   "execution_count": null,
   "metadata": {},
   "outputs": [],
   "source": []
  }
 ],
 "metadata": {
  "kernelspec": {
   "display_name": "Python 3",
   "language": "python",
   "name": "python3"
  },
  "language_info": {
   "codemirror_mode": {
    "name": "ipython",
    "version": 3
   },
   "file_extension": ".py",
   "mimetype": "text/x-python",
   "name": "python",
   "nbconvert_exporter": "python",
   "pygments_lexer": "ipython3",
   "version": "3.6.8"
  }
 },
 "nbformat": 4,
 "nbformat_minor": 2
}
